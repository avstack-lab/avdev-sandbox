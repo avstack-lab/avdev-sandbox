{
 "cells": [
  {
   "cell_type": "code",
   "execution_count": null,
   "id": "a9591a86",
   "metadata": {},
   "outputs": [],
   "source": [
    "import numpy as np\n",
    "import avapi\n",
    "import avstack"
   ]
  },
  {
   "cell_type": "code",
   "execution_count": null,
   "id": "3f3fc034",
   "metadata": {},
   "outputs": [],
   "source": [
    "nusc_data_dir = \"../../data/nuScenes\"\n",
    "NSM = avapi.nuscenes.nuScenesManager(nusc_data_dir)\n",
    "NSD = NSM.get_scene_dataset_by_name(\"scene-0103\")"
   ]
  },
  {
   "cell_type": "markdown",
   "id": "4d77b852",
   "metadata": {},
   "source": [
    "## Test Visualization"
   ]
  },
  {
   "cell_type": "code",
   "execution_count": null,
   "id": "387c7f94",
   "metadata": {},
   "outputs": [],
   "source": [
    "frame = 20\n",
    "img = NSD.get_image(frame, \"main_camera\")\n",
    "pc = NSD.get_lidar(frame, \"main_lidar\")\n",
    "objects = NSD.get_objects(frame, \"main_lidar\")\n",
    "\n",
    "# -- 2d camera\n",
    "avapi.visualize.snapshot.show_image_with_boxes(img, objects, inline=True)\n",
    "\n",
    "# -- 2d bev\n",
    "vectors = [obj.velocity_head_tail for obj in objects]\n",
    "avapi.visualize.snapshot.show_lidar_bev_with_boxes(pc, boxes=objects, vectors=vectors)"
   ]
  },
  {
   "cell_type": "markdown",
   "id": "34106743",
   "metadata": {},
   "source": [
    "## Test Object Tracking"
   ]
  },
  {
   "cell_type": "code",
   "execution_count": null,
   "id": "2757208a",
   "metadata": {},
   "outputs": [],
   "source": [
    "first_frame = 1\n",
    "last_frame = 20\n",
    "tracker = avstack.modules.tracking.tracker3d.BasicBoxTracker3D(check_reference=True)\n",
    "for frame in NSD.frames[first_frame:last_frame]:\n",
    "    ts = NSD.get_timestamp(frame)\n",
    "    ego = NSD.get_ego(frame)\n",
    "    img = NSD.get_image(frame, sensor=\"main_camera\")\n",
    "    objects = NSD.get_objects(frame, sensor=\"main_camera\")\n",
    "    detections = [\n",
    "        avstack.modules.perception.detections.BoxDetection(\n",
    "            \"objects\", obj.box3d, obj.reference, obj_type=obj.obj_type\n",
    "        )\n",
    "        for obj in objects\n",
    "    ]\n",
    "    tracks = tracker(\n",
    "        t=ts, frame=frame, detections=detections, platform=ego.as_reference()\n",
    "    )\n",
    "    if frame > 1:\n",
    "        avapi.visualize.snapshot.show_image_with_boxes(\n",
    "            img, tracks, inline=True, show_IDs=True\n",
    "        )"
   ]
  },
  {
   "cell_type": "markdown",
   "id": "f410c859",
   "metadata": {},
   "source": [
    "## Test Radar Tracking"
   ]
  },
  {
   "cell_type": "code",
   "execution_count": null,
   "id": "96fff538",
   "metadata": {},
   "outputs": [],
   "source": [
    "last_frame = 20\n",
    "tracker = avstack.modules.tracking.tracker3d.BasicRazelTracker(\n",
    "    threshold_confirmed=2, assign_radius=10\n",
    ")\n",
    "for frame in NSD.frames[:last_frame]:\n",
    "    ts = NSD.get_timestamp(frame)\n",
    "    radar = NSD.get_radar(frame)\n",
    "    ego = NSD.get_ego(frame)\n",
    "    objects = NSD.get_objects(frame)\n",
    "    img = NSD.get_image(frame, \"main_camera\")\n",
    "    detections = [\n",
    "        avstack.modules.perception.detections.RazelDetection(\n",
    "            radar.source_identifier, radar.data[i, :3], radar.reference\n",
    "        )\n",
    "        for i in range(radar.data.shape[0])\n",
    "    ]\n",
    "    detections = [det for det in detections if det.xyz[0] > 0]\n",
    "    tracks = tracker(t=ts, frame=frame, detections=detections, platform=radar.reference)\n",
    "    if frame > 1:\n",
    "        avapi.visualize.snapshot.show_image_with_boxes(img, tracks, inline=True)"
   ]
  },
  {
   "cell_type": "code",
   "execution_count": null,
   "id": "b4a8de82",
   "metadata": {},
   "outputs": [],
   "source": [
    "frame = 6\n",
    "pc = NSD.get_lidar(frame=frame)\n",
    "pc.data = np.zeros((0, 4))\n",
    "objects = NSD.get_objects(frame=frame)\n",
    "rad = NSD.get_radar(frame=frame)\n",
    "det_xyz = avstack.geometry.transformations.matrix_spherical_to_cartesian(rad.data.x)\n",
    "\n",
    "# -- vectors from detections\n",
    "vectors = [obj.velocity_head_tail for obj in objects]\n",
    "avapi.visualize.snapshot.show_lidar_bev_with_boxes(pc, boxes=objects, vectors=vectors)\n",
    "\n",
    "# -- vectors from tracks\n",
    "# vectors = [obj.velocity_head_tail for obj in tracks]\n",
    "# avapi.visualize.snapshot.show_lidar_bev_with_boxes(pc, boxes=tracks, vectors=vectors)"
   ]
  },
  {
   "cell_type": "code",
   "execution_count": null,
   "id": "37cdca90",
   "metadata": {},
   "outputs": [],
   "source": []
  }
 ],
 "metadata": {
  "kernelspec": {
   "display_name": "Python 3 (ipykernel)",
   "language": "python",
   "name": "python3"
  },
  "language_info": {
   "codemirror_mode": {
    "name": "ipython",
    "version": 3
   },
   "file_extension": ".py",
   "mimetype": "text/x-python",
   "name": "python",
   "nbconvert_exporter": "python",
   "pygments_lexer": "ipython3",
   "version": "3.10.12"
  }
 },
 "nbformat": 4,
 "nbformat_minor": 5
}
