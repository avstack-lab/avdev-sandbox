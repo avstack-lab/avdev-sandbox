{
 "cells": [
  {
   "cell_type": "code",
   "execution_count": null,
   "id": "a9591a86",
   "metadata": {},
   "outputs": [],
   "source": [
    "import numpy as np\n",
    "import avapi\n",
    "import avstack"
   ]
  },
  {
   "cell_type": "code",
   "execution_count": null,
   "id": "3f3fc034",
   "metadata": {},
   "outputs": [],
   "source": [
    "nusc_data_dir = '../../data/nuScenes'\n",
    "NSM = avapi.nuscenes.nuScenesManager(nusc_data_dir)\n",
    "NSD = NSM.get_scene_dataset_by_name('scene-0103')"
   ]
  },
  {
   "cell_type": "code",
   "execution_count": null,
   "id": "9046fec7",
   "metadata": {},
   "outputs": [],
   "source": [
    "img = NSD.get_image(1, 'main_camera')\n",
    "img.view()"
   ]
  },
  {
   "cell_type": "markdown",
   "id": "f410c859",
   "metadata": {},
   "source": [
    "## Test Radar Tracking"
   ]
  },
  {
   "cell_type": "code",
   "execution_count": null,
   "id": "295217a6",
   "metadata": {},
   "outputs": [],
   "source": [
    "nusc_data_dir = '../../data/nuScenes'\n",
    "NSM = avapi.nuscenes.nuScenesManager(nusc_data_dir)\n",
    "NSD = NSM.get_scene_dataset_by_name('scene-0103')"
   ]
  },
  {
   "cell_type": "code",
   "execution_count": null,
   "id": "96fff538",
   "metadata": {},
   "outputs": [],
   "source": [
    "last_frame = 20\n",
    "tracker = avstack.modules.tracking.tracker3d.BasicRazelTracker()\n",
    "for frame in NSD.frames[:last_frame]:\n",
    "    ts = NSD.get_timestamp(frame)\n",
    "    radar = NSD.get_radar(frame)\n",
    "    objects = NSD.get_objects(frame)\n",
    "    img = NSD.get_image(frame, \"main_camera\")\n",
    "    detections = [avstack.modules.perception.detections.RazelDetection(\n",
    "                    radar.source_identifier, radar.data[i,:3]) for i in range(radar.data.shape[0])]\n",
    "    tracks = tracker(t=ts, frame=frame, detections_nd=detections)\n",
    "    avapi.visualize.snapshot.show_image_with_boxes(img, tracks, inline=True)"
   ]
  },
  {
   "cell_type": "code",
   "execution_count": null,
   "id": "b4a8de82",
   "metadata": {},
   "outputs": [],
   "source": [
    "frame = 6\n",
    "pc = NSD.get_lidar(frame=frame)\n",
    "pc.data = np.zeros((0,4))\n",
    "objects = NSD.get_objects(frame=frame)\n",
    "rad = NSD.get_radar(frame=frame)\n",
    "det_xyz = avstack.geometry.transformations.matrix_spherical_to_cartesian(rad.data)\n",
    "\n",
    "# -- vectors from detections\n",
    "vectors = []\n",
    "for row in det_xyz:\n",
    "    head = row[:3]\n",
    "    tail = row[:3] + row[:3]/np.linalg.norm(row[:3]) * row[3]\n",
    "    vectors.append(avstack.geometry.primitives.VectorHeadTail(head=head, tail=tail, origin=rad.calibration.origin))\n",
    "avapi.visualize.snapshot.show_lidar_bev_with_boxes(pc, boxes=objects, vectors=vectors)\n",
    "\n",
    "# -- vectors from tracks\n",
    "vectors = []\n",
    "for track in tracks:\n",
    "    head = track.x[:3]\n",
    "    tail = track.x[:3] + track.x[3:6]\n",
    "    vectors.append(avstack.geometry.primitives.VectorHeadTail(head=head, tail=tail, origin=rad.calibration.origin))\n",
    "avapi.visualize.snapshot.show_lidar_bev_with_boxes(pc, boxes=objects, vectors=vectors)"
   ]
  },
  {
   "cell_type": "code",
   "execution_count": null,
   "id": "8733b52a",
   "metadata": {},
   "outputs": [],
   "source": [
    "# put data into common format\n",
    "frame = last_frame\n",
    "rad = NSD.get_radar(frame=frame)\n",
    "det_xyz = avstack.geometry.transformations.matrix_spherical_to_cartesian(rad.data)\n",
    "trk_xyz = np.array([track.x[:3] for track in tracks])\n",
    "objects = NSD.get_objects(frame=frame)\n",
    "\n",
    "# verify each object has close radar for sanity check\n",
    "for obj in objects:\n",
    "    obj.change_origin(rad.origin)\n",
    "    min_det_dist = min(np.linalg.norm(obj.position.vector[:2] - det_xyz[:,:2], axis=1))\n",
    "    min_trk_dist = min(np.linalg.norm(obj.position.vector[:2] - trk_xyz[:,:2], axis=1))\n",
    "    print(f'Minimum distance from object to closest det is {min_det_dist:4.4f}')\n",
    "    print(f'Minimum distance from object to closest trk is {min_trk_dist:4.4f}\\n')\n",
    "          "
   ]
  },
  {
   "cell_type": "code",
   "execution_count": null,
   "id": "37cdca90",
   "metadata": {},
   "outputs": [],
   "source": []
  }
 ],
 "metadata": {
  "kernelspec": {
   "display_name": "Python 3 (ipykernel)",
   "language": "python",
   "name": "python3"
  },
  "language_info": {
   "codemirror_mode": {
    "name": "ipython",
    "version": 3
   },
   "file_extension": ".py",
   "mimetype": "text/x-python",
   "name": "python",
   "nbconvert_exporter": "python",
   "pygments_lexer": "ipython3",
   "version": "3.8.16"
  }
 },
 "nbformat": 4,
 "nbformat_minor": 5
}
