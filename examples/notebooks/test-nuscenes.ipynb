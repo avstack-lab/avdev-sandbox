{
 "cells": [
  {
   "cell_type": "code",
   "execution_count": null,
   "id": "3f3fc034",
   "metadata": {},
   "outputs": [],
   "source": [
    "import numpy as np\n",
    "from avapi.nuscenes import nuScenesManager\n",
    "\n",
    "\n",
    "nusc_data_dir = \"../../data/nuScenes\"\n",
    "NSM = nuScenesManager(nusc_data_dir)\n",
    "NSD = NSM.get_scene_dataset_by_name(\"scene-0103\")"
   ]
  },
  {
   "cell_type": "markdown",
   "id": "4d77b852",
   "metadata": {},
   "source": [
    "## Test Visualization"
   ]
  },
  {
   "cell_type": "code",
   "execution_count": null,
   "id": "387c7f94",
   "metadata": {},
   "outputs": [],
   "source": [
    "from avapi.visualize.snapshot import show_image_with_boxes, show_lidar_bev_with_boxes\n",
    "\n",
    "\n",
    "frame = 20\n",
    "img = NSD.get_image(frame, \"main_camera\")\n",
    "pc = NSD.get_lidar(frame, \"main_lidar\")\n",
    "objects = NSD.get_objects(frame, \"main_lidar\")\n",
    "\n",
    "# -- 2d camera\n",
    "show_image_with_boxes(img, objects, inline=True)\n",
    "\n",
    "# -- 2d bev\n",
    "vectors = [obj.velocity_head_tail for obj in objects]\n",
    "show_lidar_bev_with_boxes(pc, boxes=objects, vectors=vectors)"
   ]
  },
  {
   "cell_type": "markdown",
   "id": "34106743",
   "metadata": {},
   "source": [
    "## Test Object Tracking"
   ]
  },
  {
   "cell_type": "code",
   "execution_count": null,
   "id": "2757208a",
   "metadata": {},
   "outputs": [],
   "source": [
    "from avstack.datastructs import DataContainer\n",
    "from avstack.modules.perception.detections import BoxDetection\n",
    "from avstack.modules.tracking.tracker3d import BasicBoxTracker3D\n",
    "\n",
    "\n",
    "# initialize a tracker\n",
    "tracker = BasicBoxTracker3D(check_reference=True)\n",
    "\n",
    "# detection noise for tracker\n",
    "noise = np.array([1, 1, 1, 0.25, 0.25, 0.25]) ** 2\n",
    "\n",
    "# run tracking\n",
    "first_frame = 1\n",
    "last_frame = 20\n",
    "for frame in NSD.frames[first_frame:last_frame]:\n",
    "    # get data from this frame\n",
    "    ts = NSD.get_timestamp(frame)\n",
    "    ego = NSD.get_ego(frame)\n",
    "    img = NSD.get_image(frame, sensor=\"main_camera\")\n",
    "    objects = NSD.get_objects(frame, sensor=\"main_camera\")\n",
    "\n",
    "    # convert \"objects\" into \"detections\" (ground truth)\n",
    "    detections = DataContainer(\n",
    "        frame=frame,\n",
    "        timestamp=ts,\n",
    "        data=[\n",
    "            BoxDetection(\n",
    "                data=obj.box3d,\n",
    "                noise=noise,\n",
    "                source_identifier=\"objects\",\n",
    "                reference=obj.reference,\n",
    "                obj_type=obj.obj_type,\n",
    "            )\n",
    "            for obj in objects\n",
    "        ],\n",
    "        source_identifier=\"objects\",\n",
    "    )\n",
    "\n",
    "    # perform tracking\n",
    "    tracks = tracker(\n",
    "        t=ts, frame=frame, detections=detections, platform=ego.as_reference()\n",
    "    )\n",
    "    if frame > 1:\n",
    "        show_image_with_boxes(img, tracks, inline=True, show_IDs=True)"
   ]
  },
  {
   "cell_type": "markdown",
   "id": "f410c859",
   "metadata": {},
   "source": [
    "## Test Radar Tracking"
   ]
  },
  {
   "cell_type": "code",
   "execution_count": null,
   "id": "96fff538",
   "metadata": {},
   "outputs": [],
   "source": [
    "from avstack.modules.tracking.tracker3d import BasicRazelTracker\n",
    "from avstack.modules.perception.detections import RazelDetection\n",
    "\n",
    "\n",
    "# initialize tracker\n",
    "tracker_radar = BasicRazelTracker(threshold_confirmed=2, assign_radius=10)\n",
    "noise_radar = np.array([1, 1, 1]) ** 2\n",
    "\n",
    "# loop over frames\n",
    "last_frame = 20\n",
    "for frame in NSD.frames[:last_frame]:\n",
    "    # get data\n",
    "    ts = NSD.get_timestamp(frame)\n",
    "    radar = NSD.get_radar(frame)\n",
    "    ego = NSD.get_ego(frame)\n",
    "    objects = NSD.get_objects(frame)\n",
    "    img = NSD.get_image(frame, \"main_camera\")\n",
    "\n",
    "    # make razel detections\n",
    "    detections = DataContainer(\n",
    "        frame=frame,\n",
    "        timestamp=ts,\n",
    "        data=[\n",
    "            RazelDetection(\n",
    "                data=radar.data[i, :3],\n",
    "                noise=noise_radar,\n",
    "                source_identifier=\"objects\",\n",
    "                reference=radar.reference,\n",
    "            )\n",
    "            for i in range(radar.data.shape[0])\n",
    "        ],\n",
    "        source_identifier=\"objects\",\n",
    "    )\n",
    "\n",
    "    # filter only to the front view\n",
    "    detections.filter(lambda det: det.xyz[0] > 0)\n",
    "\n",
    "    # run tracker\n",
    "    tracks = tracker_radar(\n",
    "        t=ts, frame=frame, detections=detections, platform=radar.reference\n",
    "    )\n",
    "\n",
    "    # show images with tracks\n",
    "    if frame > 1:\n",
    "        show_image_with_boxes(img, tracks, inline=True)"
   ]
  },
  {
   "cell_type": "code",
   "execution_count": null,
   "id": "b4a8de82",
   "metadata": {},
   "outputs": [],
   "source": [
    "from avstack.geometry.transformations import matrix_spherical_to_cartesian\n",
    "\n",
    "\n",
    "# visualize result\n",
    "frame = 6\n",
    "pc = NSD.get_lidar(frame=frame)\n",
    "pc.data = np.zeros((0, 4))\n",
    "objects = NSD.get_objects(frame=frame)\n",
    "rad = NSD.get_radar(frame=frame)\n",
    "det_xyz = matrix_spherical_to_cartesian(rad.data.x)\n",
    "\n",
    "# -- vectors from detections\n",
    "vectors = [obj.velocity_head_tail for obj in objects]\n",
    "show_lidar_bev_with_boxes(pc, boxes=objects, vectors=vectors)\n",
    "\n",
    "# -- vectors from tracks\n",
    "# vectors = [obj.velocity_head_tail for obj in tracks]\n",
    "# avapi.visualize.snapshot.show_lidar_bev_with_boxes(pc, boxes=tracks, vectors=vectors)"
   ]
  }
 ],
 "metadata": {
  "kernelspec": {
   "display_name": ".venv",
   "language": "python",
   "name": "python3"
  },
  "language_info": {
   "codemirror_mode": {
    "name": "ipython",
    "version": 3
   },
   "file_extension": ".py",
   "mimetype": "text/x-python",
   "name": "python",
   "nbconvert_exporter": "python",
   "pygments_lexer": "ipython3",
   "version": "3.10.12"
  }
 },
 "nbformat": 4,
 "nbformat_minor": 5
}
