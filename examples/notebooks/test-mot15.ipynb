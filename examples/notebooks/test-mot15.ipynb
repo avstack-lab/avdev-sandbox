{
 "cells": [
  {
   "cell_type": "code",
   "execution_count": null,
   "id": "7506ba06",
   "metadata": {},
   "outputs": [],
   "source": [
    "import avstack\n",
    "import avapi\n",
    "\n",
    "mot15_dir = \"../../data/MOT15/\"\n",
    "MSM = avapi.mot15.MOT15SceneManager(mot15_dir, split=\"train\")\n",
    "MSD = MSM.get_scene_dataset_by_name(\"ADL-Rundle-6\")"
   ]
  },
  {
   "cell_type": "markdown",
   "id": "aebe5ce2-343f-4c9e-9fd2-62fa3bac4381",
   "metadata": {},
   "source": [
    "## Visualization"
   ]
  },
  {
   "cell_type": "code",
   "execution_count": null,
   "id": "cf4781ff",
   "metadata": {},
   "outputs": [],
   "source": [
    "# Single frame visualization\n",
    "MSD = MSM.get_scene_dataset_by_index(0)\n",
    "frame = MSD.frames[30]\n",
    "img = MSD.get_image(frame, sensor=\"main_camera\")\n",
    "objects = MSD.get_objects(frame)\n",
    "avapi.visualize.snapshot.show_image_with_boxes(img, objects, inline=True)"
   ]
  },
  {
   "cell_type": "code",
   "execution_count": null,
   "id": "b9160b6c-16fe-40a6-93e2-731fe1256d47",
   "metadata": {},
   "outputs": [],
   "source": []
  }
 ],
 "metadata": {
  "kernelspec": {
   "display_name": "Python 3 (ipykernel)",
   "language": "python",
   "name": "python3"
  },
  "language_info": {
   "codemirror_mode": {
    "name": "ipython",
    "version": 3
   },
   "file_extension": ".py",
   "mimetype": "text/x-python",
   "name": "python",
   "nbconvert_exporter": "python",
   "pygments_lexer": "ipython3",
   "version": "3.10.12"
  }
 },
 "nbformat": 4,
 "nbformat_minor": 5
}
