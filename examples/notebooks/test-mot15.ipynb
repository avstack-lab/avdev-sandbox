{
 "cells": [
  {
   "cell_type": "code",
   "execution_count": null,
   "id": "7506ba06",
   "metadata": {},
   "outputs": [],
   "source": [
    "import avstack\n",
    "import avapi\n",
    "\n",
    "%load_ext autoreload\n",
    "%autoreload 2"
   ]
  },
  {
   "cell_type": "code",
   "execution_count": null,
   "id": "1639f90f",
   "metadata": {},
   "outputs": [],
   "source": [
    "mot15_dir = \"/data/tracking/MOT15/\"\n",
    "MSM = avapi.mot15.MOT15SceneManager(mot15_dir, split=\"train\")\n",
    "MSD = MSM.get_scene_dataset_by_name('ADL-Rundle-6')"
   ]
  },
  {
   "cell_type": "code",
   "execution_count": null,
   "id": "cf4781ff",
   "metadata": {},
   "outputs": [],
   "source": [
    "img = MSD.get_image(1, sensor=\"main_camera\")"
   ]
  },
  {
   "cell_type": "code",
   "execution_count": null,
   "id": "f04987ec",
   "metadata": {},
   "outputs": [],
   "source": [
    "img.view()"
   ]
  },
  {
   "cell_type": "code",
   "execution_count": null,
   "id": "220aa386",
   "metadata": {},
   "outputs": [],
   "source": []
  }
 ],
 "metadata": {
  "kernelspec": {
   "display_name": "Python 3 (ipykernel)",
   "language": "python",
   "name": "python3"
  },
  "language_info": {
   "codemirror_mode": {
    "name": "ipython",
    "version": 3
   },
   "file_extension": ".py",
   "mimetype": "text/x-python",
   "name": "python",
   "nbconvert_exporter": "python",
   "pygments_lexer": "ipython3",
   "version": "3.8.16"
  }
 },
 "nbformat": 4,
 "nbformat_minor": 5
}
