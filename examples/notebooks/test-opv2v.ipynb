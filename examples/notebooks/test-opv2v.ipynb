{
 "cells": [
  {
   "cell_type": "code",
   "execution_count": null,
   "id": "f48df84f",
   "metadata": {},
   "outputs": [],
   "source": [
    "import os\n",
    "import avstack\n",
    "import avapi\n",
    "import numpy as np\n",
    "import quaternion\n",
    "\n",
    "%load_ext autoreload\n",
    "%autoreload 2\n",
    "\n",
    "opv2v_path = \"../../data/OPV2V\""
   ]
  },
  {
   "cell_type": "code",
   "execution_count": null,
   "id": "54cd136a",
   "metadata": {},
   "outputs": [],
   "source": [
    "OSM = avapi.opv2v.Opv2vScenesManager(opv2v_path, split=\"train\")\n",
    "ODM = OSM.get_scene_datset_by_index(0, 0)"
   ]
  },
  {
   "cell_type": "markdown",
   "id": "91b46dbd",
   "metadata": {},
   "source": [
    "## Some Visualizations"
   ]
  },
  {
   "cell_type": "code",
   "execution_count": null,
   "id": "438472b7",
   "metadata": {},
   "outputs": [],
   "source": [
    "objects[-1]"
   ]
  },
  {
   "cell_type": "code",
   "execution_count": null,
   "id": "0778c6b5",
   "metadata": {},
   "outputs": [],
   "source": [
    "%matplotlib inline\n",
    "\n",
    "frame = 333\n",
    "img = ODM.get_image(frame, 'camera1')\n",
    "pc = ODM.get_lidar(frame, 'lidar')\n",
    "objects = ODM.get_objects(frame, 'lidar')\n",
    "\n",
    "avapi.visualize.snapshot.show_image_with_boxes(img, objects, inline=True)\n",
    "avapi.visualize.snapshot.show_lidar_on_image(pc, img)"
   ]
  }
 ],
 "metadata": {
  "kernelspec": {
   "display_name": "Python 3 (ipykernel)",
   "language": "python",
   "name": "python3"
  },
  "language_info": {
   "codemirror_mode": {
    "name": "ipython",
    "version": 3
   },
   "file_extension": ".py",
   "mimetype": "text/x-python",
   "name": "python",
   "nbconvert_exporter": "python",
   "pygments_lexer": "ipython3",
   "version": "3.8.16"
  }
 },
 "nbformat": 4,
 "nbformat_minor": 5
}
