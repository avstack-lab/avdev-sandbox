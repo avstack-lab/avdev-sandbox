{
 "cells": [
  {
   "cell_type": "markdown",
   "id": "6052f9cc-4617-4452-a3ba-3d51b623958b",
   "metadata": {},
   "source": [
    "This is currently broken... stay tuned"
   ]
  },
  {
   "cell_type": "code",
   "execution_count": null,
   "id": "7dd5a2dd-5fb0-43ad-a16c-2ec21d7111e0",
   "metadata": {},
   "outputs": [],
   "source": [
    "import numpy as np\n",
    "import avapi\n",
    "import avstack\n",
    "\n",
    "nuim_data_dir = \"../../data/nuImages/\"\n",
    "NID = avapi.nuimages.nuImagesDataset(nuim_data_dir, split=\"v1.0-mini\")"
   ]
  },
  {
   "cell_type": "code",
   "execution_count": null,
   "id": "b0153c27-bacf-488b-92a1-03e2925d21d0",
   "metadata": {},
   "outputs": [],
   "source": [
    "# frame = 20\n",
    "# img = NID.get_image(frame, 'main_camera')\n",
    "# objects = NID.get_objects(frame, 'main_lidar')\n",
    "\n",
    "# # -- 2d camera\n",
    "# avapi.visualize.snapshot.show_image_with_boxes(img, objects, inline=True)"
   ]
  },
  {
   "cell_type": "code",
   "execution_count": null,
   "id": "162c8dda-3ed9-4c63-9484-91415e99cbed",
   "metadata": {},
   "outputs": [],
   "source": []
  }
 ],
 "metadata": {
  "kernelspec": {
   "display_name": "Python 3 (ipykernel)",
   "language": "python",
   "name": "python3"
  },
  "language_info": {
   "codemirror_mode": {
    "name": "ipython",
    "version": 3
   },
   "file_extension": ".py",
   "mimetype": "text/x-python",
   "name": "python",
   "nbconvert_exporter": "python",
   "pygments_lexer": "ipython3",
   "version": "3.10.12"
  }
 },
 "nbformat": 4,
 "nbformat_minor": 5
}
