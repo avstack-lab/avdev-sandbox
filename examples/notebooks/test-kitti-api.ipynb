{
 "cells": [
  {
   "cell_type": "code",
   "execution_count": 1,
   "id": "ac828631",
   "metadata": {},
   "outputs": [
    {
     "name": "stdout",
     "output_type": "stream",
     "text": [
      "Cannot import rss library -- don't worry about this unless you need 'safety' evals\n"
     ]
    },
    {
     "name": "stderr",
     "output_type": "stream",
     "text": [
      "/home/spencer/.cache/pypoetry/virtualenvs/avdev-sandbox-EzsIjry5-py3.10/lib/python3.10/site-packages/nuimages/nuimages.py:668: SyntaxWarning: \"is not\" with a literal. Did you mean \"!=\"?\n",
      "  if annotation_type is not 'none':\n"
     ]
    },
    {
     "name": "stdout",
     "output_type": "stream",
     "text": [
      "Jupyter environment detected. Enabling Open3D WebVisualizer.\n",
      "[Open3D INFO] WebRTC GUI backend enabled.\n",
      "[Open3D INFO] WebRTCWindowSystem: HTTP handshake server disabled.\n",
      "The autoreload extension is already loaded. To reload it, use:\n",
      "  %reload_ext autoreload\n"
     ]
    }
   ],
   "source": [
    "import os\n",
    "import avstack\n",
    "import avapi\n",
    "import numpy as np\n",
    "import quaternion\n",
    "\n",
    "%load_ext autoreload\n",
    "%autoreload 2\n",
    "\n",
    "obj_data_dir_k = '../../data/KITTI/object'\n",
    "raw_data_dir_k = '../../data/KITTI/raw'\n",
    "\n",
    "KOD = avapi.kitti.KittiObjectDataset\n",
    "KRD = avapi.kitti.KittiRawDataset(raw_data_dir_k)"
   ]
  },
  {
   "cell_type": "code",
   "execution_count": 2,
   "id": "29bc1d0a",
   "metadata": {},
   "outputs": [
    {
     "ename": "FileNotFoundError",
     "evalue": "[Errno 2] No such file or directory: '../../data/KITTI/raw'",
     "output_type": "error",
     "traceback": [
      "\u001b[0;31m---------------------------------------------------------------------------\u001b[0m",
      "\u001b[0;31mFileNotFoundError\u001b[0m                         Traceback (most recent call last)",
      "Cell \u001b[0;32mIn[2], line 4\u001b[0m\n\u001b[1;32m      2\u001b[0m idx_date \u001b[38;5;241m=\u001b[39m \u001b[38;5;241m0\u001b[39m\n\u001b[1;32m      3\u001b[0m idx_seq \u001b[38;5;241m=\u001b[39m \u001b[38;5;241m2\u001b[39m\n\u001b[0;32m----> 4\u001b[0m exp_path \u001b[38;5;241m=\u001b[39m KRD\u001b[38;5;241m.\u001b[39mconvert_sequence(\u001b[43mKRD\u001b[49m\u001b[38;5;241;43m.\u001b[39;49m\u001b[43mget_available_dates\u001b[49m\u001b[43m(\u001b[49m\u001b[43m)\u001b[49m[idx_date], idx_seq\u001b[38;5;241m=\u001b[39midx_seq,\n\u001b[1;32m      5\u001b[0m                                 max_frames\u001b[38;5;241m=\u001b[39m\u001b[38;5;28;01mNone\u001b[39;00m, max_time\u001b[38;5;241m=\u001b[39m\u001b[38;5;28;01mNone\u001b[39;00m, tracklets_req\u001b[38;5;241m=\u001b[39m\u001b[38;5;28;01mTrue\u001b[39;00m)\n\u001b[1;32m      6\u001b[0m \u001b[38;5;28mprint\u001b[39m(\u001b[38;5;124mf\u001b[39m\u001b[38;5;124m'\u001b[39m\u001b[38;5;130;01m\\n\u001b[39;00m\u001b[38;5;124mRaw data has been converted to object format and saved at \u001b[39m\u001b[38;5;132;01m{\u001b[39;00mexp_path\u001b[38;5;132;01m}\u001b[39;00m\u001b[38;5;124m'\u001b[39m)\n\u001b[1;32m      7\u001b[0m KDM \u001b[38;5;241m=\u001b[39m KOD(obj_data_dir_k, exp_path)\n",
      "File \u001b[0;32m~/Documents/Projects/AVstack/sandboxes/avdev-sandbox/submodules/lib-avstack-api/avapi/kitti/dataset.py:453\u001b[0m, in \u001b[0;36mKittiRawDataset.get_available_dates\u001b[0;34m(self)\u001b[0m\n\u001b[1;32m    451\u001b[0m pattern \u001b[38;5;241m=\u001b[39m re\u001b[38;5;241m.\u001b[39mcompile(\u001b[38;5;124m\"\u001b[39m\u001b[38;5;124m.*[0-9]+_[0-9]+_[0-9]+$\u001b[39m\u001b[38;5;124m\"\u001b[39m)\n\u001b[1;32m    452\u001b[0m dates \u001b[38;5;241m=\u001b[39m []\n\u001b[0;32m--> 453\u001b[0m \u001b[38;5;28;01mfor\u001b[39;00m item \u001b[38;5;129;01min\u001b[39;00m \u001b[43mos\u001b[49m\u001b[38;5;241;43m.\u001b[39;49m\u001b[43mlistdir\u001b[49m\u001b[43m(\u001b[49m\u001b[38;5;28;43mself\u001b[39;49m\u001b[38;5;241;43m.\u001b[39;49m\u001b[43mdata_dir\u001b[49m\u001b[43m)\u001b[49m:\n\u001b[1;32m    454\u001b[0m     dirname \u001b[38;5;241m=\u001b[39m os\u001b[38;5;241m.\u001b[39mpath\u001b[38;5;241m.\u001b[39mjoin(\u001b[38;5;28mself\u001b[39m\u001b[38;5;241m.\u001b[39mdata_dir, item)\n\u001b[1;32m    455\u001b[0m     \u001b[38;5;28;01mif\u001b[39;00m os\u001b[38;5;241m.\u001b[39mpath\u001b[38;5;241m.\u001b[39misdir(dirname) \u001b[38;5;129;01mand\u001b[39;00m pattern\u001b[38;5;241m.\u001b[39mmatch(dirname):\n",
      "\u001b[0;31mFileNotFoundError\u001b[0m: [Errno 2] No such file or directory: '../../data/KITTI/raw'"
     ]
    }
   ],
   "source": [
    "# Convert raw dataset instance to the \"object\" format\n",
    "idx_date = 0\n",
    "idx_seq = 2\n",
    "exp_path = KRD.convert_sequence(KRD.get_available_dates()[idx_date], idx_seq=idx_seq,\n",
    "                                max_frames=None, max_time=None, tracklets_req=True)\n",
    "print(f'\\nRaw data has been converted to object format and saved at {exp_path}')\n",
    "KDM = KOD(obj_data_dir_k, exp_path)"
   ]
  },
  {
   "cell_type": "markdown",
   "id": "c14408ea",
   "metadata": {},
   "source": [
    "## Test Visualization"
   ]
  },
  {
   "cell_type": "code",
   "execution_count": null,
   "id": "544b34cd",
   "metadata": {},
   "outputs": [],
   "source": [
    "# Single frame visualization\n",
    "frame = KDM.frames[30]\n",
    "img = KDM.get_image(frame, sensor='image-2')\n",
    "pc = KDM.get_lidar(frame)\n",
    "objects = KDM.get_objects(frame)\n",
    "avapi.visualize.snapshot.show_objects_on_image(img, objects, projection='3d', inline=True)\n",
    "avapi.visualize.snapshot.show_lidar_on_image(pc, img)"
   ]
  },
  {
   "cell_type": "markdown",
   "id": "6701aa6d",
   "metadata": {},
   "source": [
    "## Test Detection"
   ]
  },
  {
   "cell_type": "code",
   "execution_count": null,
   "id": "a9e22378",
   "metadata": {},
   "outputs": [],
   "source": [
    "model = '3d-lidar'\n",
    "if model == '2d-img':\n",
    "    M = avstack.modules.perception.object2dfv.MMDetObjectDetector2D(\n",
    "        model='fasterrcnn', dataset='kitti', gpu=1)\n",
    "elif model == '3d-img':\n",
    "    M = avstack.modules.perception.object3d.MMDetObjectDetector3D(\n",
    "        model='pgd', dataset='kitti', gpu=0)\n",
    "elif model == '3d-lidar':\n",
    "    M = avstack.modules.perception.object3d.MMDetObjectDetector3D(\n",
    "        model='pointpillars', dataset='kitti', gpu=1)\n",
    "else:\n",
    "    raise NotImplementedError(model)"
   ]
  },
  {
   "cell_type": "code",
   "execution_count": null,
   "id": "16e518b7",
   "metadata": {},
   "outputs": [],
   "source": [
    "frame = KDM.frames[150]\n",
    "img = KDM.get_image(frame, sensor='image-2')\n",
    "pc = KDM.get_lidar(frame)\n",
    "objects = KDM.get_objects(frame)\n",
    "\n",
    "if model == '2d-img':\n",
    "    outputs = M(img, identifier='test', frame=frame)\n",
    "elif model == '3d-img':\n",
    "    outputs = M(img, identifier='test', frame=frame)\n",
    "elif model == '3d-lidar':\n",
    "    outputs = M(pc, identifier='test', frame=frame)\n",
    "else:\n",
    "    raise NotImplementedError(model)\n",
    "avapi.visualize.snapshot.show_image_with_boxes(img, outputs.data, inline=True)"
   ]
  },
  {
   "cell_type": "code",
   "execution_count": null,
   "id": "8f75e6d5",
   "metadata": {},
   "outputs": [],
   "source": []
  }
 ],
 "metadata": {
  "kernelspec": {
   "display_name": "Python 3 (ipykernel)",
   "language": "python",
   "name": "python3"
  },
  "language_info": {
   "codemirror_mode": {
    "name": "ipython",
    "version": 3
   },
   "file_extension": ".py",
   "mimetype": "text/x-python",
   "name": "python",
   "nbconvert_exporter": "python",
   "pygments_lexer": "ipython3",
   "version": "3.10.12"
  },
  "vscode": {
   "interpreter": {
    "hash": "916dbcbb3f70747c44a77c7bcd40155683ae19c65e1c03b4aa3499c5328201f1"
   }
  }
 },
 "nbformat": 4,
 "nbformat_minor": 5
}
