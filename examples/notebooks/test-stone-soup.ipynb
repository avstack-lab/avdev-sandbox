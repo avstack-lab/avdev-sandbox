{
 "cells": [
  {
   "cell_type": "code",
   "execution_count": null,
   "metadata": {},
   "outputs": [],
   "source": [
    "import sys\n",
    "import numpy as np\n",
    "import matplotlib.pyplot as plt\n",
    "from tqdm import tqdm\n",
    "from matplotlib import animation\n",
    "from PIL import Image\n",
    "\n",
    "from avstack.geometry import GlobalOrigin3D\n",
    "from avstack.modules.tracking.stonesoup import (\n",
    "    StoneSoupKalmanTracker2DBox,\n",
    "    StoneSoupKalmanTracker3DBox,\n",
    ")\n",
    "\n",
    "from avapi.visualize.tracking import (\n",
    "    draw_box_detections_2d,\n",
    "    draw_stonesoup_box_tracks_2d,\n",
    "    draw_box_detections_3d,\n",
    "    draw_stonesoup_box_tracks_3d,\n",
    ")\n",
    "\n",
    "sys.path.append(\"../../submodules/lib-avstack-core/tests\")\n",
    "sys.path.append(\"../../submodules/lib-avstack-core/tests/modules/tracking\")\n",
    "from track_utils import make_2d_tracking_data, make_3d_tracking_data"
   ]
  },
  {
   "attachments": {},
   "cell_type": "markdown",
   "metadata": {},
   "source": [
    "## 2D Tracking"
   ]
  },
  {
   "cell_type": "code",
   "execution_count": null,
   "metadata": {},
   "outputs": [],
   "source": [
    "tracker = StoneSoupKalmanTracker2DBox()\n",
    "\n",
    "platform = GlobalOrigin3D\n",
    "n_targs = 4\n",
    "dt = 0.1\n",
    "n_frames = 100\n",
    "dets_2d_all = make_2d_tracking_data(dt=dt, n_frames=n_frames, n_targs=n_targs)\n",
    "\n",
    "fig2, ax2 = plt.subplots(num=\"MultiTargetTracker output\")\n",
    "fig2.tight_layout()\n",
    "artists2 = []\n",
    "img_shape = (375, 1242, 3)\n",
    "\n",
    "for frame, dets_2d in tqdm(enumerate(dets_2d_all), total=len(dets_2d_all)):\n",
    "    # run tracker\n",
    "    tracks = tracker(\n",
    "        detections=dets_2d,\n",
    "        platform=platform,\n",
    "        identifier=\"tracker-1\",\n",
    "    )\n",
    "\n",
    "    # Plot output\n",
    "    pixels = np.zeros((img_shape), dtype=np.uint8)\n",
    "    image = Image.fromarray(pixels)\n",
    "    image = draw_box_detections_2d(image, dets_2d)\n",
    "    image = draw_stonesoup_box_tracks_2d(image, tracks)\n",
    "    ax2.axes.xaxis.set_visible(False)\n",
    "    ax2.axes.yaxis.set_visible(False)\n",
    "    fig2.tight_layout()\n",
    "    artist = ax2.imshow(image, animated=True)\n",
    "    artists2.append([artist])\n",
    "ani2 = animation.ArtistAnimation(\n",
    "    fig2, artists2, interval=20, blit=True, repeat_delay=200\n",
    ")\n",
    "ani2.save(\"./2d_movie.gif\", writer=\"pillow\")"
   ]
  },
  {
   "attachments": {},
   "cell_type": "markdown",
   "metadata": {},
   "source": [
    "## 3D Tracking"
   ]
  },
  {
   "cell_type": "code",
   "execution_count": null,
   "metadata": {},
   "outputs": [],
   "source": [
    "tracker = StoneSoupKalmanTracker3DBox()\n",
    "\n",
    "platform = GlobalOrigin3D\n",
    "n_targs = 4\n",
    "dt = 0.1\n",
    "n_frames = 100\n",
    "dets_3d_all = make_3d_tracking_data(dt=dt, n_frames=n_frames, n_targs=n_targs)\n",
    "\n",
    "fig3, ax3 = plt.subplots(num=\"MultiTargetTracker output\")\n",
    "fig3.tight_layout()\n",
    "artists3 = []\n",
    "img_shape = (600, 600, 3)\n",
    "\n",
    "for frame, dets_3d in tqdm(enumerate(dets_3d_all), total=len(dets_3d_all)):\n",
    "    # run tracker\n",
    "    tracks = tracker(\n",
    "        detections=dets_3d,\n",
    "        platform=platform,\n",
    "        identifier=\"tracker-1\",\n",
    "    )\n",
    "\n",
    "    # Plot output - BEV\n",
    "    pixels = np.zeros((img_shape), dtype=np.uint8)\n",
    "    image = Image.fromarray(pixels)\n",
    "    image = draw_box_detections_3d(image, dets_3d)\n",
    "    image = draw_stonesoup_box_tracks_3d(image, tracks)\n",
    "    ax3.axes.xaxis.set_visible(False)\n",
    "    ax3.axes.yaxis.set_visible(False)\n",
    "    fig3.tight_layout()\n",
    "    artist = ax3.imshow(image, animated=True)\n",
    "    artists3.append([artist])\n",
    "ani3 = animation.ArtistAnimation(\n",
    "    fig3, artists3, interval=20, blit=True, repeat_delay=200\n",
    ")\n",
    "ani3.save(\"./3d_movie.gif\", writer=\"pillow\")"
   ]
  },
  {
   "cell_type": "code",
   "execution_count": null,
   "metadata": {},
   "outputs": [],
   "source": []
  }
 ],
 "metadata": {
  "kernelspec": {
   "display_name": "Python 3 (ipykernel)",
   "language": "python",
   "name": "python3"
  },
  "language_info": {
   "codemirror_mode": {
    "name": "ipython",
    "version": 3
   },
   "file_extension": ".py",
   "mimetype": "text/x-python",
   "name": "python",
   "nbconvert_exporter": "python",
   "pygments_lexer": "ipython3",
   "version": "3.10.12"
  },
  "vscode": {
   "interpreter": {
    "hash": "7d23366c47e3b9ad5ff06da56852ed3a24ed5143c17850833144e32e4d479b5f"
   }
  }
 },
 "nbformat": 4,
 "nbformat_minor": 4
}
