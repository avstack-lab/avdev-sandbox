{
 "cells": [
  {
   "cell_type": "code",
   "execution_count": null,
   "id": "ac828631",
   "metadata": {},
   "outputs": [],
   "source": [
    "import os\n",
    "import numpy as np\n",
    "import quaternion\n",
    "from avapi.kitti import KittiObjectDataset, KittiRawDataset, KittiScenesManager\n",
    "\n",
    "obj_data_dir_k = \"../../data/KITTI/object\"\n",
    "raw_data_dir_k = \"../../data/KITTI/raw\"\n",
    "\n",
    "KOD = KittiObjectDataset\n",
    "KRD = KittiRawDataset(raw_data_dir_k)\n",
    "KSM = KittiScenesManager(obj_data_dir_k)"
   ]
  },
  {
   "cell_type": "markdown",
   "id": "c14408ea",
   "metadata": {},
   "source": [
    "## Test Visualization"
   ]
  },
  {
   "cell_type": "code",
   "execution_count": null,
   "id": "544b34cd",
   "metadata": {},
   "outputs": [],
   "source": [
    "from avapi.visualize.snapshot import show_image_with_boxes, show_lidar_on_image\n",
    "\n",
    "\n",
    "# Single frame visualization\n",
    "KDM = KSM.get_scene_dataset_by_index(0)\n",
    "frame = KDM.frames[30]\n",
    "img = KDM.get_image(frame, sensor=\"image-2\")\n",
    "pc = KDM.get_lidar(frame)\n",
    "objects = KDM.get_objects(frame)\n",
    "show_image_with_boxes(img, objects, inline=True)\n",
    "show_lidar_on_image(pc, img)"
   ]
  },
  {
   "cell_type": "markdown",
   "id": "6701aa6d",
   "metadata": {},
   "source": [
    "## Test Detection"
   ]
  },
  {
   "cell_type": "code",
   "execution_count": null,
   "id": "a9e22378",
   "metadata": {},
   "outputs": [],
   "source": [
    "from avstack.modules.perception.object2dfv import MMDetObjectDetector2D\n",
    "from avstack.modules.perception.object3d import MMDetObjectDetector3D\n",
    "\n",
    "\n",
    "# get models\n",
    "def get_model(model: str):\n",
    "    if model == \"2d-img\":\n",
    "        M = MMDetObjectDetector2D(model=\"fasterrcnn\", dataset=\"kitti\", gpu=1)\n",
    "    elif model == \"3d-img\":\n",
    "        M = MMDetObjectDetector3D(model=\"pgd\", dataset=\"kitti\", gpu=0)\n",
    "    elif model == \"3d-lidar\":\n",
    "        M = MMDetObjectDetector3D(model=\"pointpillars\", dataset=\"kitti\", gpu=1)\n",
    "    else:\n",
    "        raise NotImplementedError(model)\n",
    "    return M"
   ]
  },
  {
   "cell_type": "code",
   "execution_count": null,
   "id": "16e518b7",
   "metadata": {},
   "outputs": [],
   "source": [
    "# get data\n",
    "frame = KDM.frames[30]\n",
    "img = KDM.get_image(frame, sensor=\"image-2\")\n",
    "pc = KDM.get_lidar(frame)\n",
    "objects = KDM.get_objects(frame)\n",
    "\n",
    "# get model and run inference\n",
    "model = \"2d-img\"\n",
    "M = get_model(model=model)\n",
    "outputs = M(pc if \"lidar\" in model else img)\n",
    "show_image_with_boxes(img, outputs.data, inline=True)"
   ]
  },
  {
   "cell_type": "code",
   "execution_count": null,
   "id": "a870353e",
   "metadata": {},
   "outputs": [],
   "source": []
  }
 ],
 "metadata": {
  "kernelspec": {
   "display_name": ".venv",
   "language": "python",
   "name": "python3"
  },
  "language_info": {
   "codemirror_mode": {
    "name": "ipython",
    "version": 3
   },
   "file_extension": ".py",
   "mimetype": "text/x-python",
   "name": "python",
   "nbconvert_exporter": "python",
   "pygments_lexer": "ipython3",
   "version": "3.10.12"
  }
 },
 "nbformat": 4,
 "nbformat_minor": 5
}
