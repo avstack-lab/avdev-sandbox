{
 "cells": [
  {
   "cell_type": "code",
   "execution_count": null,
   "id": "402a26e9",
   "metadata": {},
   "outputs": [],
   "source": [
    "import sys, os\n",
    "os.environ['CUDA_LAUNCH_BLOCKING'] = \"1\" \n",
    "sys.path.append('..')\n",
    "import avstack\n",
    "import avapi\n",
    "from copy import copy, deepcopy\n",
    "\n",
    "\n",
    "import numpy as np\n",
    "%load_ext autoreload\n",
    "%autoreload 2\n",
    "\n",
    "%matplotlib inline\n",
    "\n",
    "data_dir = '../../data/CARLA/ego-lidar/'\n",
    "CSM = avapi.carla.CarlaScenesManager(data_dir, verbose=False)"
   ]
  },
  {
   "cell_type": "code",
   "execution_count": null,
   "id": "d005addc",
   "metadata": {},
   "outputs": [],
   "source": [
    "CSD = CSM.get_scene_dataset_by_name(CSM.scenes[-1])\n",
    "print(len(CSD.sensor_file_post[list(CSD.sensor_file_post.keys())[0]]['frame']), 'camera frames')\n",
    "\n",
    "frame_ordering_cam = list(CSD.sensor_file_post['CAM_FRONT']['frame'].keys())\n",
    "frame_ordering_ego = list(CSD.ego_files['frame'].keys())\n",
    "frame_ordering = [x for x in frame_ordering_cam if x in frame_ordering_ego]"
   ]
  },
  {
   "cell_type": "markdown",
   "id": "0fda57ab",
   "metadata": {},
   "source": [
    "## Visualizations"
   ]
  },
  {
   "cell_type": "code",
   "execution_count": null,
   "id": "18a85197",
   "metadata": {},
   "outputs": [],
   "source": [
    "# Get scene dataset\n",
    "frame = frame_ordering[30]\n",
    "all_sensors = ['CAM_FRONT']\n",
    "for cam in all_sensors:\n",
    "    if 'DEPTH' in cam:\n",
    "        img = CSD.get_depthimage(frame, cam)\n",
    "    else:\n",
    "        img = CSD.get_image(frame, cam)\n",
    "    calib = CSD.get_calibration(frame, cam)\n",
    "    ego = CSD.get_ego(frame)\n",
    "    pc = CSD.get_lidar(frame, 'LIDAR_TOP')\n",
    "    objects = CSD.get_objects(frame, 'LIDAR_TOP')\n",
    "    \n",
    "    # visualize the results\n",
    "    avapi.visualize.snapshot.show_image_with_boxes(img, objects, inline=True)\n",
    "    avapi.visualize.snapshot.show_lidar_bev_with_boxes(pc, boxes=objects, inline=True)"
   ]
  },
  {
   "cell_type": "markdown",
   "id": "28adb9f4",
   "metadata": {},
   "source": [
    "## Perception"
   ]
  },
  {
   "cell_type": "markdown",
   "id": "f7bf27c9",
   "metadata": {},
   "source": [
    "#### 2D Perception"
   ]
  },
  {
   "cell_type": "code",
   "execution_count": null,
   "id": "51d43e73",
   "metadata": {},
   "outputs": [],
   "source": [
    "M_carla = avstack.modules.perception.object2dfv.MMDetObjectDetector2D(model='fasterrcnn', threshold=0.7, dataset='carla')\n",
    "M_cityscapes = avstack.modules.perception.object2dfv.MMDetObjectDetector2D(model='fasterrcnn', threshold=0.7, dataset='cityscapes')"
   ]
  },
  {
   "cell_type": "code",
   "execution_count": null,
   "id": "de45e8d8-6354-4e7a-bdca-d7d72743ec3f",
   "metadata": {},
   "outputs": [],
   "source": [
    "cam = 'CAM_FRONT'\n",
    "frame = frame_ordering[30]\n",
    "img = CSD.get_image(frame, sensor=cam)\n",
    "dets_carla = M_carla(img)\n",
    "dets_cityscapes = M_cityscapes(img)"
   ]
  },
  {
   "cell_type": "code",
   "execution_count": null,
   "id": "5e713c93-2b44-4a7a-b524-07e598be1b0a",
   "metadata": {},
   "outputs": [],
   "source": [
    "avapi.visualize.snapshot.show_image_with_boxes(img, dets_carla, inline=True)\n",
    "avapi.visualize.snapshot.show_image_with_boxes(img, dets_cityscapes, inline=True)"
   ]
  },
  {
   "cell_type": "markdown",
   "id": "75f81a54",
   "metadata": {},
   "source": [
    "#### 3D Perception"
   ]
  },
  {
   "cell_type": "code",
   "execution_count": null,
   "id": "85bb2740",
   "metadata": {},
   "outputs": [],
   "source": [
    "# M3D = avstack.modules.perception.object3d.MMDetObjectDetector3D(\n",
    "#     model='pointpillars', dataset='carla', threshold=0.3, gpu=1)  # NOTE: we haven't trained a carla model yet..."
   ]
  }
 ],
 "metadata": {
  "kernelspec": {
   "display_name": "Python 3 (ipykernel)",
   "language": "python",
   "name": "python3"
  },
  "language_info": {
   "codemirror_mode": {
    "name": "ipython",
    "version": 3
   },
   "file_extension": ".py",
   "mimetype": "text/x-python",
   "name": "python",
   "nbconvert_exporter": "python",
   "pygments_lexer": "ipython3",
   "version": "3.10.12"
  }
 },
 "nbformat": 4,
 "nbformat_minor": 5
}
