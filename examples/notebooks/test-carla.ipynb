{
 "cells": [
  {
   "cell_type": "code",
   "execution_count": null,
   "id": "402a26e9",
   "metadata": {},
   "outputs": [],
   "source": [
    "import sys, os\n",
    "os.environ['CUDA_LAUNCH_BLOCKING'] = \"1\" \n",
    "sys.path.append('..')\n",
    "import avstack\n",
    "import avapi\n",
    "from copy import copy, deepcopy\n",
    "\n",
    "\n",
    "import numpy as np\n",
    "%load_ext autoreload\n",
    "%autoreload 2\n",
    "\n",
    "%matplotlib inline\n",
    "\n",
    "data_dir = '/data/spencer/CARLA/object-v1/'\n",
    "CSM = avapi.carla.CarlaScenesManager(data_dir, verbose=False)"
   ]
  },
  {
   "cell_type": "code",
   "execution_count": null,
   "id": "d005addc",
   "metadata": {},
   "outputs": [],
   "source": [
    "CSD = CSM.get_scene_dataset_by_name(CSM.scenes[-1])\n",
    "print(len(CSD.sensor_file_post[list(CSD.sensor_file_post.keys())[0]]['frame']), 'camera frames')\n",
    "\n",
    "frame_ordering_cam = list(CSD.sensor_file_post['CAM_FRONT']['frame'].keys())\n",
    "frame_ordering_ego = list(CSD.ego_files['frame'].keys())\n",
    "frame_ordering = [x for x in frame_ordering_cam if x in frame_ordering_ego]"
   ]
  },
  {
   "cell_type": "markdown",
   "id": "0fda57ab",
   "metadata": {},
   "source": [
    "## Visualizations"
   ]
  },
  {
   "cell_type": "code",
   "execution_count": null,
   "id": "18a85197",
   "metadata": {},
   "outputs": [],
   "source": [
    "# Get scene dataset\n",
    "frame = frame_ordering[30]\n",
    "all_sensors = ['CAM_FRONT']\n",
    "for cam in all_sensors:\n",
    "    if 'DEPTH' in cam:\n",
    "        img = CSD.get_depthimage(frame, cam)\n",
    "    else:\n",
    "        img = CSD.get_image(frame, cam)\n",
    "    calib = CSD.get_calibration(frame, cam)\n",
    "    ego = CSD.get_ego(frame)\n",
    "    ego.attitude = ego.attitude.T\n",
    "    ego.box.rot = ego.box.rot.T\n",
    "    pc = CSD.get_lidar(frame, 'LIDAR_TOP')\n",
    "    \n",
    "    # Get \"local\" objects and validate same|\n",
    "    objects_local = CSD.get_objects(frame, cam)\n",
    "    \n",
    "    # visualize the results\n",
    "    avapi.visualize.snapshot.show_image_with_boxes(img, objects_local, inline=True)\n",
    "#     avapi.visualize.show_lidar_on_image(pc, img)"
   ]
  },
  {
   "cell_type": "code",
   "execution_count": null,
   "id": "dc3aa2fc",
   "metadata": {},
   "outputs": [],
   "source": [
    "%matplotlib inline\n",
    "import matplotlib.pyplot as plt\n",
    "fig = plt.figure(figsize=(10,10))\n",
    "\n",
    "pc = CSD.get_lidar(frame, 'LIDAR_TOP')\n",
    "\n",
    "sc = 50\n",
    "plt.scatter(pc.data[:,1], pc.data[:,0], s=4)\n",
    "plt.xlim([-sc, sc])\n",
    "plt.ylim([-sc, sc])\n",
    "# for det in dets:\n",
    "#     plt.scatter(det.box3d.t[1], det.box3d.t[0], marker='x', s=30)\n",
    "plt.gca().invert_xaxis()\n",
    "plt.gca().set_aspect('equal', adjustable='box')"
   ]
  },
  {
   "cell_type": "markdown",
   "id": "28adb9f4",
   "metadata": {},
   "source": [
    "## Perception"
   ]
  },
  {
   "cell_type": "markdown",
   "id": "f7bf27c9",
   "metadata": {},
   "source": [
    "#### 2D Perception"
   ]
  },
  {
   "cell_type": "code",
   "execution_count": null,
   "id": "51d43e73",
   "metadata": {},
   "outputs": [],
   "source": [
    "cam = 'CAM_FRONT'\n",
    "imgs_pre = [CSD.get_image(frame, cam) for frame in CSD.get_frames(cam)[:50]]\n",
    "\n",
    "# M = avstack.modules.perception.object2dfv.MMDetObjectDetector2D(model='htc', threshold=0.7, dataset='nuimages')\n",
    "# %timeit -n 10 M(imgs_pre[np.random.randint(0, len(imgs_pre)-1)], '2d-dets') \n",
    "\n",
    "# M = avstack.modules.perception.object2dfv.MMDetObjectDetector2D(model='cascade_mask_rcnn', threshold=0.7, dataset='nuimages')\n",
    "# %timeit -n 10 M(imgs_pre[np.random.randint(0, len(imgs_pre)-1)], '2d-dets') \n",
    "\n",
    "M = avstack.modules.perception.object2dfv.MMDetObjectDetector2D(model='fasterrcnn', threshold=0.7, dataset='cityscapes')\n",
    "%timeit -n 10 M(imgs_pre[np.random.randint(0, len(imgs_pre)-1)], '2d-dets') "
   ]
  },
  {
   "cell_type": "markdown",
   "id": "75f81a54",
   "metadata": {},
   "source": [
    "#### 3D Perception"
   ]
  },
  {
   "cell_type": "code",
   "execution_count": null,
   "id": "85bb2740",
   "metadata": {},
   "outputs": [],
   "source": [
    "M3D = avstack.modules.perception.object3d.MMDetObjectDetector3D(\n",
    "    model='pointpillars', dataset='nuscenes', threshold=0.3, gpu=1)"
   ]
  },
  {
   "cell_type": "code",
   "execution_count": null,
   "id": "3f6b76f8",
   "metadata": {},
   "outputs": [],
   "source": [
    "# NDM = NSM.get_scene_dataset_by_index(1)\n",
    "frame = 12\n",
    "pc = CSD.get_lidar(frame)\n",
    "pc2 = deepcopy(pc)\n",
    "pc2.data = np.concatenate((pc.data, np.ones((len(pc.data),2))), axis=1)\n",
    "R_90 = avstack.geometry.transformations.rotz(np.pi/2)\n",
    "pc2.calibration.origin = pc2.calibration.origin.rotate(R_90)\n",
    "pc2.data[:,:3] = pc2.data[:,:3] @ R_90\n",
    "res = M3D(pc2, 'lidar')"
   ]
  },
  {
   "cell_type": "code",
   "execution_count": null,
   "id": "31785258",
   "metadata": {},
   "outputs": [],
   "source": [
    "img = CSD.get_image(frame, sensor='CAM_BACK')\n",
    "avapi.visualize.snapshot.show_image_with_boxes(img, res, inline=True)"
   ]
  },
  {
   "cell_type": "code",
   "execution_count": null,
   "id": "25b28f64",
   "metadata": {},
   "outputs": [],
   "source": [
    "import matplotlib.pyplot as plt\n",
    "fig = plt.figure(figsize=(10,10))\n",
    "\n",
    "sc = 20\n",
    "plt.scatter(pc.data[:,1], pc.data[:,0], s=4)\n",
    "plt.xlim([-sc, sc])\n",
    "plt.ylim([-sc, sc])\n",
    "plt.gca().invert_xaxis()\n",
    "plt.gca().set_aspect('equal', adjustable='box')"
   ]
  },
  {
   "cell_type": "code",
   "execution_count": null,
   "id": "18b7bf8e",
   "metadata": {},
   "outputs": [],
   "source": [
    "import matplotlib.pyplot as plt\n",
    "fig = plt.figure(figsize=(10,10))\n",
    "\n",
    "sc = 20\n",
    "plt.scatter(pc2.data[:,1], pc2.data[:,0], s=4)\n",
    "plt.xlim([-sc, sc])\n",
    "plt.ylim([-sc, sc])\n",
    "plt.gca().invert_xaxis()\n",
    "plt.gca().set_aspect('equal', adjustable='box')"
   ]
  },
  {
   "cell_type": "code",
   "execution_count": null,
   "id": "eb5b83bb",
   "metadata": {},
   "outputs": [],
   "source": []
  }
 ],
 "metadata": {
  "kernelspec": {
   "display_name": "Python 3 (ipykernel)",
   "language": "python",
   "name": "python3"
  },
  "language_info": {
   "codemirror_mode": {
    "name": "ipython",
    "version": 3
   },
   "file_extension": ".py",
   "mimetype": "text/x-python",
   "name": "python",
   "nbconvert_exporter": "python",
   "pygments_lexer": "ipython3",
   "version": "3.8.17"
  }
 },
 "nbformat": 4,
 "nbformat_minor": 5
}
