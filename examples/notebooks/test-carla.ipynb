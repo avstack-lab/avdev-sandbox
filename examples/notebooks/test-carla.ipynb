{
 "cells": [
  {
   "cell_type": "code",
   "execution_count": null,
   "id": "402a26e9",
   "metadata": {},
   "outputs": [],
   "source": [
    "# import sys, os\n",
    "\n",
    "# os.environ[\"CUDA_LAUNCH_BLOCKING\"] = \"1\"\n",
    "# sys.path.append(\"..\")\n",
    "# from copy import copy, deepcopy\n",
    "\n",
    "from avapi.carla import CarlaScenesManager\n",
    "\n",
    "\n",
    "data_dir = \"/data/shared/CARLA/multi-agent-random/\"\n",
    "CSM = CarlaScenesManager(data_dir, verbose=False)"
   ]
  },
  {
   "cell_type": "markdown",
   "id": "0fda57ab",
   "metadata": {},
   "source": [
    "## Visualizations"
   ]
  },
  {
   "cell_type": "code",
   "execution_count": null,
   "id": "18a85197",
   "metadata": {},
   "outputs": [],
   "source": [
    "from avapi.visualize.snapshot import show_image_with_boxes, show_lidar_bev_with_boxes\n",
    "\n",
    "\n",
    "# Get scene dataset\n",
    "CSD = CSM.get_scene_dataset_by_index(0)\n",
    "frame_idx = 10\n",
    "agent = 0\n",
    "frame = CSD.get_frames(sensor=\"camera-0\", agent=agent)[frame_idx]\n",
    "all_cameras = [\"camera-0\"]\n",
    "lidar = \"lidar-0\"\n",
    "\n",
    "# loop over available sensors\n",
    "for cam in all_cameras:\n",
    "    if \"DEPTH\" in cam:\n",
    "        img = CSD.get_depthimage(frame=frame, sensor=cam, agent=agent)\n",
    "    else:\n",
    "        img = CSD.get_image(frame=frame, sensor=cam, agent=agent)\n",
    "    calib = CSD.get_calibration(frame=frame, sensor=cam, agent=agent)\n",
    "    ego = CSD.get_agent(frame=frame, agent=agent)\n",
    "    pc = CSD.get_lidar(frame=frame, sensor=lidar, agent=agent)\n",
    "    objects = CSD.get_objects(frame, sensor=lidar, agent=agent)\n",
    "\n",
    "    # visualize the results\n",
    "    show_image_with_boxes(img, objects, inline=True)\n",
    "    show_lidar_bev_with_boxes(pc, boxes=objects, inline=True)"
   ]
  },
  {
   "cell_type": "markdown",
   "id": "28adb9f4",
   "metadata": {},
   "source": [
    "## Perception"
   ]
  },
  {
   "cell_type": "markdown",
   "id": "f7bf27c9",
   "metadata": {},
   "source": [
    "#### 2D Perception"
   ]
  },
  {
   "cell_type": "code",
   "execution_count": null,
   "id": "51d43e73",
   "metadata": {},
   "outputs": [],
   "source": [
    "from avstack.modules.perception.object2dfv import MMDetObjectDetector2D\n",
    "\n",
    "\n",
    "M_carla = MMDetObjectDetector2D(\n",
    "    model=\"fasterrcnn\", threshold=0.5, dataset=\"carla-joint\"\n",
    ")\n",
    "M_cityscapes = MMDetObjectDetector2D(\n",
    "    model=\"fasterrcnn\", threshold=0.5, dataset=\"cityscapes\"\n",
    ")"
   ]
  },
  {
   "cell_type": "code",
   "execution_count": null,
   "id": "de45e8d8-6354-4e7a-bdca-d7d72743ec3f",
   "metadata": {},
   "outputs": [],
   "source": [
    "# run inference\n",
    "cam = \"camera-0\"\n",
    "img = CSD.get_image(frame=frame, sensor=cam, agent=agent)\n",
    "dets_carla = M_carla(img)\n",
    "dets_cityscapes = M_cityscapes(img)\n",
    "\n",
    "# visualize\n",
    "show_image_with_boxes(img, dets_carla, inline=True)\n",
    "show_image_with_boxes(img, dets_cityscapes, inline=True)"
   ]
  },
  {
   "cell_type": "code",
   "execution_count": null,
   "id": "08d48819",
   "metadata": {},
   "outputs": [],
   "source": []
  }
 ],
 "metadata": {
  "kernelspec": {
   "display_name": ".venv",
   "language": "python",
   "name": "python3"
  },
  "language_info": {
   "codemirror_mode": {
    "name": "ipython",
    "version": 3
   },
   "file_extension": ".py",
   "mimetype": "text/x-python",
   "name": "python",
   "nbconvert_exporter": "python",
   "pygments_lexer": "ipython3",
   "version": "3.10.12"
  }
 },
 "nbformat": 4,
 "nbformat_minor": 5
}
