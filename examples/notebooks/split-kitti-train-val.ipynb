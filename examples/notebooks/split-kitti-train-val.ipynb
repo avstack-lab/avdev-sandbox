{
 "cells": [
  {
   "cell_type": "markdown",
   "id": "d375e38c",
   "metadata": {},
   "source": [
    "# Explicitly Split KITTI into Train and Val\n",
    "\n",
    "The KITTI dataset comes with a `trainval` folder of data. This small example notebook shows you how to use the `KittiObjectDataset` object to split the train and val splits into their own respective folders. It is not necessary to run this example to do anything of interest with KITTI, but it can help understand how the data are organized."
   ]
  },
  {
   "cell_type": "code",
   "execution_count": null,
   "id": "a78789e3",
   "metadata": {},
   "outputs": [],
   "source": [
    "import avstack\n",
    "import avapi\n",
    "import os\n",
    "import shutil\n",
    "from tqdm import tqdm"
   ]
  },
  {
   "cell_type": "markdown",
   "id": "78972ca7",
   "metadata": {},
   "source": [
    "## Split data"
   ]
  },
  {
   "cell_type": "code",
   "execution_count": null,
   "id": "2a91aa2c",
   "metadata": {},
   "outputs": [],
   "source": [
    "KITTI_obj_base = os.path.realpath(\"../../data/KITTI/object\")  # use your own path or add a symbolic link\n",
    "KDM = avapi.kitti.KittiObjectDataset(KITTI_obj_base, 'training')  # the original \"training\" has both \"train\" and \"val\"\n",
    "\n",
    "folders = [\"train_only\", \"val_only\"]  # these directories will be created\n",
    "imset_names = [\"train.txt\", \"val.txt\"]  # these were downloaded with the ImageSet download\n",
    "subfolders = ['velodyne', 'image_2', 'image_3', 'planes', 'label_2', 'calib']\n",
    "exts       = ['.bin',     '.png',    '.png',    '.txt',   '.txt',    '.txt']\n",
    "\n",
    "copy_data = False  # if true, actually copies. If false, makes a symbolic link for each file\n",
    "\n",
    "for imset, fol in zip(imset_names, folders):\n",
    "    os.makedirs(os.path.join(KITTI_obj_base, fol), exist_ok=True)\n",
    "    for sub in subfolders:\n",
    "        os.makedirs(os.path.join(fol, sub), exist_ok=True)\n",
    "\n",
    "    # Read imagesets from downloaded files to know which files\n",
    "    with open(os.path.join(KITTI_obj_base, 'ImageSets', imset), 'r') as f:\n",
    "        idxs_this_split = [int(s.strip()) for s in f.readlines()]\n",
    "\n",
    "    # Write image sets to the new name\n",
    "    fol_split = fol.split('/')\n",
    "    write_str = '\\n'.join(['%06d'%i for i in idxs_this_split])\n",
    "    with open(os.path.join(KITTI_obj_base, *fol_split[:-1], 'ImageSets', fol_split[-1] + '.txt'), 'w') as f:\n",
    "        f.write(write_str)\n",
    "              \n",
    "    # Copy or symlink the data\n",
    "    for sub, ext in zip(subfolders, exts):\n",
    "        subdir = os.path.join(KITTI_obj_base, fol, sub)\n",
    "        print(f'{\"Copying\" if copy_data else \"Making symolic links with\"} {subdir}')\n",
    "        os.makedirs(subdir, exist_ok=True)\n",
    "        for idx in tqdm(idxs_this_split):\n",
    "            fname = '%06d'%idx + ext\n",
    "            src = os.path.join(KDM.split_path, sub, fname)\n",
    "            dest = os.path.join(subdir, fname)\n",
    "            if copy_data:\n",
    "                shutil.copy2(src, dest)\n",
    "            else:\n",
    "                os.symlink(src, dest)"
   ]
  },
  {
   "cell_type": "markdown",
   "id": "c9f27754",
   "metadata": {},
   "source": [
    "## Test Splits"
   ]
  },
  {
   "cell_type": "code",
   "execution_count": null,
   "id": "783e0252",
   "metadata": {},
   "outputs": [],
   "source": [
    "KDM_train = avapi.kitti.KittiObjectDataset(KITTI_obj_base, 'train_only')\n",
    "print(f'Train has {len(KDM_train.frames)} frames')\n",
    "KDM_val = avapi.kitti.KittiObjectDataset(KITTI_obj_base, 'val_only')\n",
    "print(f'Val has {len(KDM_val.frames)} frames')"
   ]
  },
  {
   "cell_type": "code",
   "execution_count": null,
   "id": "c5b960c0-7962-486d-8b2c-d8c42a90043c",
   "metadata": {},
   "outputs": [],
   "source": []
  }
 ],
 "metadata": {
  "kernelspec": {
   "display_name": "Python 3 (ipykernel)",
   "language": "python",
   "name": "python3"
  },
  "language_info": {
   "codemirror_mode": {
    "name": "ipython",
    "version": 3
   },
   "file_extension": ".py",
   "mimetype": "text/x-python",
   "name": "python",
   "nbconvert_exporter": "python",
   "pygments_lexer": "ipython3",
   "version": "3.8.17"
  },
  "vscode": {
   "interpreter": {
    "hash": "916dbcbb3f70747c44a77c7bcd40155683ae19c65e1c03b4aa3499c5328201f1"
   }
  }
 },
 "nbformat": 4,
 "nbformat_minor": 5
}
